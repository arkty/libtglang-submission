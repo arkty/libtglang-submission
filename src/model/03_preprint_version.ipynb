{
 "cells": [
  {
   "cell_type": "code",
   "execution_count": 45,
   "metadata": {},
   "outputs": [],
   "source": [
    "import numpy as np\n",
    "import utils\n",
    "\n",
    "TRAIN_COUNT = 10\n",
    "players = list(\"!\\\"#$%&'()*+,-./:;<=>?@[\\]^_`{|}~\")\n",
    "lang_files = utils.load_lang_files(train_count=TRAIN_COUNT)"
   ]
  },
  {
   "cell_type": "code",
   "execution_count": 46,
   "metadata": {},
   "outputs": [],
   "source": [
    "# Define Euclidean distance comparation\n",
    "def get_closest_by_pbi(train, pbi):\n",
    "    closest_distance = None\n",
    "    closest_lang = None\n",
    "\n",
    "    closest_avr_distance = None\n",
    "    closest_avr_lang = None\n",
    "\n",
    "    candidates = []\n",
    "\n",
    "    for lang, lang_pbis in train.items():\n",
    "        closest_lang_distance = None\n",
    "        avr_distance = 0.0\n",
    "        for t_pbi in lang_pbis:\n",
    "            d = np.linalg.norm(np.array(pbi) - np.array(t_pbi))\n",
    "            avr_distance += d\n",
    "            if(closest_lang_distance == None or d < closest_lang_distance):\n",
    "                closest_lang_distance = d\n",
    "            \n",
    "        if(closest_distance == None or closest_lang_distance < closest_distance):\n",
    "            closest_lang = lang\n",
    "            closest_distance = closest_lang_distance\n",
    "\n",
    "        if(closest_avr_distance == None or avr_distance < closest_avr_distance):\n",
    "            closest_avr_lang = lang\n",
    "            closest_avr_distance = avr_distance\n",
    "\n",
    "        candidates.append((closest_lang_distance, lang))\n",
    "    return (closest_lang, closest_avr_lang, candidates)"
   ]
  },
  {
   "cell_type": "code",
   "execution_count": 47,
   "metadata": {},
   "outputs": [],
   "source": [
    "# Train\n",
    "train_pbis = {}\n",
    "for l in lang_files:\n",
    "    train_pbis[l] = []\n",
    "    for idx, file in enumerate(lang_files[l]):\n",
    "        if(idx >= TRAIN_COUNT): continue\n",
    "        train_pbis[l].append(utils.get_comb_phi_file(file.resolve(), players))"
   ]
  },
  {
   "cell_type": "code",
   "execution_count": 43,
   "metadata": {},
   "outputs": [
    {
     "name": "stdout",
     "output_type": "stream",
     "text": [
      "Rate: 52.62096774193549%\n",
      "RateN: 69.65725806451613%\n",
      "RateAVR: 55.74596774193549%\n"
     ]
    }
   ],
   "source": [
    "# Verify by Euclidean distance\n",
    "total_verifications = 0\n",
    "successfull_verifications = 0\n",
    "successfull_verifications_n = 0\n",
    "successfull_verifications_avr = 0\n",
    "\n",
    "for l_idx, l in enumerate(lang_files):\n",
    "    for idx, file in enumerate(lang_files[l]):\n",
    "        if(idx < TRAIN_COUNT): continue\n",
    "\n",
    "        total_verifications += 1\n",
    "\n",
    "        content = open(file.resolve()).read()\n",
    "        pbi = utils.get_comb_phi_file(file.resolve(), players)\n",
    "\n",
    "        closestLang, closest_avr_lang, candidates = get_closest_by_pbi(train_pbis, pbi)\n",
    "\n",
    "        candidates = sorted(candidates)\n",
    "\n",
    "        if(closestLang != closest_avr_lang and l == closest_avr_lang):\n",
    "            successfull_verifications_avr += 1\n",
    "        elif(l == closestLang):\n",
    "            successfull_verifications_avr += 1\n",
    "        \n",
    "        if(l == closestLang):\n",
    "            successfull_verifications += 1\n",
    "\n",
    "        for c in candidates[:3]:\n",
    "            if(c[1] == l):\n",
    "                successfull_verifications_n += 1\n",
    "                break\n",
    "print(f'Rate: {(successfull_verifications / total_verifications) * 100}%')\n",
    "print(f'RateN: {(successfull_verifications_n / total_verifications) * 100}%')\n",
    "print(f'RateAVR: {(successfull_verifications_avr / total_verifications) * 100}%')"
   ]
  },
  {
   "cell_type": "code",
   "execution_count": 48,
   "metadata": {},
   "outputs": [],
   "source": [
    "# Save trained data\n",
    "np.savez(f\"train_{TRAIN_COUNT}.npz\", **train_pbis)"
   ]
  },
  {
   "cell_type": "code",
   "execution_count": null,
   "metadata": {},
   "outputs": [],
   "source": []
  }
 ],
 "metadata": {
  "kernelspec": {
   "display_name": "Python 3",
   "language": "python",
   "name": "python3"
  },
  "language_info": {
   "codemirror_mode": {
    "name": "ipython",
    "version": 3
   },
   "file_extension": ".py",
   "mimetype": "text/x-python",
   "name": "python",
   "nbconvert_exporter": "python",
   "pygments_lexer": "ipython3",
   "version": "3.11.0"
  },
  "orig_nbformat": 4
 },
 "nbformat": 4,
 "nbformat_minor": 2
}
